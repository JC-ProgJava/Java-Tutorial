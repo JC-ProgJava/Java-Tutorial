{
  "nbformat": 4,
  "nbformat_minor": 0,
  "metadata": {
    "colab": {
      "name": "Java-2.ipynb",
      "provenance": [],
      "collapsed_sections": [
        "Nm8YS8MLzD15",
        "NRxHguAny-1m",
        "6RXZyFp_ztP4",
        "rS8TaSer3p7b",
        "QIoqg_qo365f",
        "qppq7MX7kxr5",
        "8laXcqbIk_dv",
        "Yc7TdwO2lUKV",
        "aL4YWdA7lmjg",
        "N2XIh3jJmdFQ",
        "i-3ZQ34xmz6N",
        "5AkvgSYQpq58",
        "ZuZRd_xOpq6D",
        "rxZokTFXkY-C"
      ]
    },
    "kernelspec": {
      "name": "java",
      "display_name": "Java"
    }
  },
  "cells": [
    {
      "cell_type": "markdown",
      "metadata": {
        "id": "Nm8YS8MLzD15",
        "colab_type": "text"
      },
      "source": [
        "### Java #2"
      ]
    },
    {
      "cell_type": "code",
      "metadata": {
        "id": "8OzmScmun1Qh",
        "colab_type": "code",
        "colab": {}
      },
      "source": [
        "!wget https://github.com/SpencerPark/IJava/releases/download/v1.3.0/ijava-1.3.0.zip\n",
        "!unzip ijava-1.3.0.zip\n",
        "!python install.py --sys-prefix"
      ],
      "execution_count": null,
      "outputs": []
    },
    {
      "cell_type": "markdown",
      "metadata": {
        "id": "NRxHguAny-1m",
        "colab_type": "text"
      },
      "source": [
        "### Java in Jupyter Notebook Instructions"
      ]
    },
    {
      "cell_type": "markdown",
      "metadata": {
        "id": "bjdAMZGctgWw",
        "colab_type": "text"
      },
      "source": [
        "<h2>In this notebook, we will be using the <mark>Java</mark> kernel to run Java.</h2>"
      ]
    },
    {
      "cell_type": "markdown",
      "metadata": {
        "id": "HP3aaplTrKE3",
        "colab_type": "text"
      },
      "source": [
        "<h2>Running Java in Jupyter Notebook</h2>\n",
        "<h3>1. Using the Python kernel in Jupyter Notebook</h3>\n",
        "<ol>\n",
        "  <li>Write<br>%%file <em>filename</em>.java before program.</li>\n",
        "  <li>Write<br>%shell<br>\n",
        "!javac <em>main-class-name</em>.java<br>\n",
        "!java <em>file-main-method-class-name</em> in another code block and run both to see console output.</li>\n",
        "</ol>\n",
        "\n",
        "<h3>2. Using the Java kernel in Jupyter Notebook</h3>\n",
        "<ol>\n",
        "  <li>Manually change the configuration of the file using a text editor. Example: </li>\n",
        "  <ul>\n",
        "    <li>{<br>\n",
        "  \"nbformat\": 4,<br>\n",
        "  \"nbformat_minor\": 0,<br>\n",
        "  \"metadata\": {<br>\n",
        "    \"colab\": {<br>\n",
        "      \"name\": \"Test1.ipynb\",<br>\n",
        "      \"provenance\": [],<br>\n",
        "      \"collapsed_sections\": []<br>\n",
        "    },<br>\n",
        "    \"kernelspec\": {<br>\n",
        "      <mark>\"name\": \"Python\",<br>\n",
        "      \"display_name\": \"Python\"<br></mark>\n",
        "    }<br>\n",
        "  },<br>...</li>\n",
        "    <li>Change to: <br>{<br>\n",
        "  \"nbformat\": 4,<br>\n",
        "  \"nbformat_minor\": 0,<br>\n",
        "  \"metadata\": {<br>\n",
        "    \"colab\": {<br>\n",
        "      \"name\": \"Test1.ipynb\",<br>\n",
        "      \"provenance\": [],<br>\n",
        "      \"collapsed_sections\": []<br>\n",
        "    },<br>\n",
        "    \"kernelspec\": {<br>\n",
        "      <mark>\"name\": \"Java\",<br>\n",
        "      \"display_name\": \"Java\"<br></mark>\n",
        "    }<br>\n",
        "  },<br>...</li>\n",
        "  </ul>\n",
        "  <li>Write<br>!wget https://github.com/SpencerPark/IJava/releases/download/v1.3.0/ijava-1.3.0.zip<br>\n",
        "!unzip ijava-1.3.0.zip<br>\n",
        "!python install.py --sys-prefix</li>\n",
        "  <li>Run the code before running any other cells</li>\n",
        "</ol>\n"
      ]
    },
    {
      "cell_type": "markdown",
      "metadata": {
        "id": "6RXZyFp_ztP4",
        "colab_type": "text"
      },
      "source": [
        "### Data Types"
      ]
    },
    {
      "cell_type": "code",
      "metadata": {
        "id": "JzuIEv-Z--fL",
        "colab_type": "code",
        "colab": {
          "base_uri": "https://localhost:8080/",
          "height": 34
        },
        "outputId": "cb10a618-a78a-4342-cfac-5c7a1aea87e5"
      },
      "source": [
        "/*\n",
        "  these won't show anything on other runtimes, they are merely expressions, not statements\n",
        "*/\n",
        "\n",
        "2 + 3; // 5, sum of integers\n",
        "\"hello\"; // hello, String\n",
        "true; // true, boolean\n",
        "1 / 4; // 0, because Java inteprets 1 and 4 as integers, which have to be rounded to whole numbers\n",
        "1.0 / 4; // 0.25, because 1.0 is automatically interpreted as a double value.\n",
        "1 / 4.0; // 0.25"
      ],
      "execution_count": null,
      "outputs": [
        {
          "output_type": "execute_result",
          "data": {
            "text/plain": [
              "0.25"
            ]
          },
          "metadata": {
            "tags": []
          },
          "execution_count": 5
        }
      ]
    },
    {
      "cell_type": "markdown",
      "metadata": {
        "id": "6YYNLU9OGhUa",
        "colab_type": "text"
      },
      "source": [
        "Commonly used data types in Java"
      ]
    },
    {
      "cell_type": "code",
      "metadata": {
        "id": "tm9nEkt1F600",
        "colab_type": "code",
        "colab": {}
      },
      "source": [
        "int a = 0;\n",
        "double b = 0.2425;\n",
        "boolean e = false;\n",
        "float f = 1.45124124f;\n",
        "char g = 'c';\n",
        "long h = 1310480813;\n",
        "byte i = 100;\n",
        "short j = 10;\n",
        "String k = \"Hello World!\";"
      ],
      "execution_count": null,
      "outputs": []
    },
    {
      "cell_type": "code",
      "metadata": {
        "id": "Q1PxINkk_ska",
        "colab_type": "code",
        "colab": {}
      },
      "source": [
        "import java.util.Scanner;\n",
        "import java.lang.Math;\n",
        "/*\n",
        "  This is how you import other libraries that are pre-packaged in Java JDK\n",
        "*/"
      ],
      "execution_count": null,
      "outputs": []
    },
    {
      "cell_type": "markdown",
      "metadata": {
        "id": "rS8TaSer3p7b",
        "colab_type": "text"
      },
      "source": [
        "### Example using common import statements."
      ]
    },
    {
      "cell_type": "code",
      "metadata": {
        "id": "zNJctGkq3u7q",
        "colab_type": "code",
        "colab": {
          "base_uri": "https://localhost:8080/",
          "height": 268
        },
        "outputId": "9bc9ebaf-4d03-4cc0-92a8-f21c94ee645e"
      },
      "source": [
        "//IMPORT Java Utilities Scanner\n",
        "import java.util.Scanner;\n",
        "//Make an object that takes values from System.in(console or input console)\n",
        "Scanner input = new Scanner(System.in);\n",
        "\n",
        "/*\n",
        "  input can read for:\n",
        "  nextLine() [String, reads entire line]\n",
        "  nextDouble() [double]\n",
        "  nextInt() [int]\n",
        "  nextBoolean() [boolean]\n",
        "  nextBigInteger() [BigInteger]\n",
        "  nextBigDecimal() [BigDecimal]\n",
        "  nextByte() [byte]\n",
        "  nextLong() [long]\n",
        "  nextShort() [short]\n",
        "  next() [String, takes a single word using a delimiter of ' '. You can change this by using the useDelimiter() method.]\n",
        "\n",
        "  May throw:\n",
        "    InputMismatchException -> the input does not match the expected data type\n",
        "  \n",
        "  Common Mistakes: \n",
        "    using nextInt() to read a double value\n",
        "      - this is a mistake because the Scanner class will automatically take a value with .* at the end of it and recognize it as a double value.\n",
        "*/\n",
        "\n",
        "System.out.println(\"Give a string: \");\n",
        "System.out.println(\"Value given: \" + input.nextLine());\n",
        "System.out.println(\"Give integer with multiple digits: \");\n",
        "int i = input.nextInt();\n",
        "System.out.println(\"Integer given: \" + i);"
      ],
      "execution_count": null,
      "outputs": [
        {
          "output_type": "stream",
          "text": [
            "Give a string: \n",
            "HELLO WORLD\n",
            "Value given: HELLO WORLD\n",
            "Give integer with multiple digits: \n",
            "1313.0\n"
          ],
          "name": "stdout"
        },
        {
          "output_type": "error",
          "ename": "EvalException",
          "evalue": "ignored",
          "traceback": [
            "\u001b[1m\u001b[31m---------------------------------------------------------------------------\u001b[0m",
            "\u001b[1m\u001b[31mjava.util.InputMismatchException: null\u001b[0m",
            "\u001b[1m\u001b[31m\tat java.base/java.util.Scanner.throwFor(Scanner.java:939)\u001b[0m",
            "\u001b[1m\u001b[31m\tat java.base/java.util.Scanner.next(Scanner.java:1594)\u001b[0m",
            "\u001b[1m\u001b[31m\tat java.base/java.util.Scanner.nextInt(Scanner.java:2258)\u001b[0m",
            "\u001b[1m\u001b[31m\tat java.base/java.util.Scanner.nextInt(Scanner.java:2212)\u001b[0m",
            "\u001b[1m\u001b[31m\tat .(#16:1)\u001b[0m"
          ]
        }
      ]
    },
    {
      "cell_type": "code",
      "metadata": {
        "id": "iCzinNc--Yjf",
        "colab_type": "code",
        "colab": {
          "base_uri": "https://localhost:8080/",
          "height": 51
        },
        "outputId": "8525d39a-9afd-4271-d276-e21692db3db5"
      },
      "source": [
        "//IMPORT Java Utilities Scanner\n",
        "import java.util.Scanner;\n",
        "//Make an object that takes values from System.in(console or input console)\n",
        "Scanner input = new Scanner(System.in);\n",
        "//Variables with values inputted\n",
        "double a = input.nextDouble(); // base\n",
        "double b = input.nextDouble(); // exponent/index\n",
        "System.out.println(String.format(\"%.0f\",Math.pow(a,b))); // find the value of the exponent in double form and print it like a integer(without the \".0\")"
      ],
      "execution_count": null,
      "outputs": [
        {
          "output_type": "stream",
          "text": [
            "100 3\n",
            "1000000\n"
          ],
          "name": "stdout"
        }
      ]
    },
    {
      "cell_type": "code",
      "metadata": {
        "id": "at0ONzVLryqe",
        "colab_type": "code",
        "colab": {
          "base_uri": "https://localhost:8080/",
          "height": 34
        },
        "outputId": "0933d026-cacb-4dcc-f4e3-2a6bfa9d3e16"
      },
      "source": [
        "System.out.println(Math.PI); // constant π that is given in the java.lang.Math library."
      ],
      "execution_count": null,
      "outputs": [
        {
          "output_type": "stream",
          "text": [
            "3.141592653589793\n"
          ],
          "name": "stdout"
        }
      ]
    },
    {
      "cell_type": "markdown",
      "metadata": {
        "id": "QIoqg_qo365f",
        "colab_type": "text"
      },
      "source": [
        "### Strings"
      ]
    },
    {
      "cell_type": "code",
      "metadata": {
        "id": "s0Uhw6yJodqp",
        "colab_type": "code",
        "colab": {
          "base_uri": "https://localhost:8080/",
          "height": 34
        },
        "outputId": "f17fe872-233b-4867-c2e0-77967a54c944"
      },
      "source": [
        "String h = \"hello\";\n",
        "System.out.println(Arrays.toString(h.split(\"e\")));"
      ],
      "execution_count": null,
      "outputs": [
        {
          "output_type": "stream",
          "text": [
            "[h, llo]\n"
          ],
          "name": "stdout"
        }
      ]
    },
    {
      "cell_type": "code",
      "metadata": {
        "id": "C9q3coVJXyoE",
        "colab_type": "code",
        "colab": {
          "base_uri": "https://localhost:8080/",
          "height": 34
        },
        "outputId": "27d502d2-28f0-4851-8d77-56ceec6d9be7"
      },
      "source": [
        "String i = \"\";\n",
        "i += \"hello\"; // you can concatenate strings like this.\n",
        "i //note this would give an error anywhere outside of jupyter notebook environment."
      ],
      "execution_count": null,
      "outputs": [
        {
          "output_type": "execute_result",
          "data": {
            "text/plain": [
              "hello"
            ]
          },
          "metadata": {
            "tags": []
          },
          "execution_count": 9
        }
      ]
    },
    {
      "cell_type": "code",
      "metadata": {
        "id": "od9LUO0TeuZ3",
        "colab_type": "code",
        "colab": {
          "base_uri": "https://localhost:8080/",
          "height": 68
        },
        "outputId": "55b28148-da07-4d0d-d97e-ce88b02b0155"
      },
      "source": [
        "int i = 0;\n",
        "double b = 100;\n",
        "System.out.println(i); // 0\n",
        "System.out.println(b); // 100.0\n",
        "System.out.println(String.format(\"%.0f\", b));\n",
        "// 100, without removing precision of value, it takes variable 'b' as string \"100.0\" and takes the last two characters off to make it look better."
      ],
      "execution_count": null,
      "outputs": [
        {
          "output_type": "stream",
          "text": [
            "0\n",
            "100.0\n",
            "100\n"
          ],
          "name": "stdout"
        }
      ]
    },
    {
      "cell_type": "markdown",
      "metadata": {
        "id": "qppq7MX7kxr5",
        "colab_type": "text"
      },
      "source": [
        "### Programming Errors"
      ]
    },
    {
      "cell_type": "markdown",
      "metadata": {
        "id": "8laXcqbIk_dv",
        "colab_type": "text"
      },
      "source": [
        "#### Syntax Errors"
      ]
    },
    {
      "cell_type": "code",
      "metadata": {
        "id": "MF4Y0nxFk1eC",
        "colab_type": "code",
        "colab": {
          "base_uri": "https://localhost:8080/",
          "height": 149
        },
        "outputId": "776e333b-563e-4b15-df05-32d431d8ccba"
      },
      "source": [
        "public class synErr {\n",
        "  public static main(String[]args){\n",
        "    System.out.println(\"Welcome to Java);\n",
        "  }\n",
        "}\n",
        "// Missing closing quote \"\"\n",
        "// Missing 'void' in front of main method."
      ],
      "execution_count": null,
      "outputs": [
        {
          "output_type": "error",
          "ename": "CompilationException",
          "evalue": "ignored",
          "traceback": [
            "\u001b[1m\u001b[30m|   \u001b[1m\u001b[30m  public static \u001b[0m\u001b[1m\u001b[30m\u001b[41m\u001b[0m\u001b[1m\u001b[30mmain(String[]args){\u001b[0m",
            "\u001b[1m\u001b[31minvalid method declaration; return type required\u001b[0m",
            "",
            "\u001b[1m\u001b[30m|   \u001b[1m\u001b[30m    System.out.println(\u001b[0m\u001b[1m\u001b[30m\u001b[41m\u001b[0m\u001b[1m\u001b[30m\"Welcome to Java);\u001b[0m",
            "\u001b[1m\u001b[31munclosed string literal\u001b[0m",
            ""
          ]
        }
      ]
    },
    {
      "cell_type": "markdown",
      "metadata": {
        "id": "Yc7TdwO2lUKV",
        "colab_type": "text"
      },
      "source": [
        "#### Runtime Errors"
      ]
    },
    {
      "cell_type": "code",
      "metadata": {
        "id": "7tFwonUslZ39",
        "colab_type": "code",
        "colab": {
          "base_uri": "https://localhost:8080/",
          "height": 115
        },
        "outputId": "471834b8-aed6-4194-e44f-6e758fe5068a"
      },
      "source": [
        "System.out.println(0 / 0);"
      ],
      "execution_count": null,
      "outputs": [
        {
          "output_type": "error",
          "ename": "EvalException",
          "evalue": "ignored",
          "traceback": [
            "\u001b[1m\u001b[31m---------------------------------------------------------------------------\u001b[0m",
            "\u001b[1m\u001b[31mjava.lang.ArithmeticException: / by zero\u001b[0m",
            "\u001b[1m\u001b[31m\tat .(#39:1)\u001b[0m"
          ]
        }
      ]
    },
    {
      "cell_type": "markdown",
      "metadata": {
        "id": "aL4YWdA7lmjg",
        "colab_type": "text"
      },
      "source": [
        "#### Logic Errors"
      ]
    },
    {
      "cell_type": "code",
      "metadata": {
        "id": "4-s6tPBclods",
        "colab_type": "code",
        "colab": {
          "base_uri": "https://localhost:8080/",
          "height": 68
        },
        "outputId": "f08cf18e-4a03-4d72-825a-37fae7d452b6"
      },
      "source": [
        "System.out.println(\"Celsius 40 degrees is Fahrenheit degree \");\n",
        "System.out.println((9 / 5) * 40 + 32); \n",
        "// Wrong! 9 / 5 is interpreted as 1 because Java runtime thinks it is a division of integers.\n",
        "System.out.println((9.0 / 5) * 40 + 32); // Correct solution"
      ],
      "execution_count": null,
      "outputs": [
        {
          "output_type": "stream",
          "text": [
            "Celsius 40 degrees is Fahrenheit degree \n",
            "72\n",
            "104.0\n"
          ],
          "name": "stdout"
        }
      ]
    },
    {
      "cell_type": "markdown",
      "metadata": {
        "id": "N2XIh3jJmdFQ",
        "colab_type": "text"
      },
      "source": [
        "### Challenge #1"
      ]
    },
    {
      "cell_type": "markdown",
      "metadata": {
        "id": "D3I2G93GmnmH",
        "colab_type": "text"
      },
      "source": [
        "What is wrong with the following line of code?<br>\n",
        "<em>You can try run the following line of code</em>"
      ]
    },
    {
      "cell_type": "code",
      "metadata": {
        "id": "084OTBzZpKIJ",
        "colab_type": "code",
        "colab": {
          "base_uri": "https://localhost:8080/",
          "height": 98
        },
        "outputId": "622b3281-d7ca-4272-d59d-56179602ad7f"
      },
      "source": [
        "string x = 'hello' + ' world!'\n",
        "x"
      ],
      "execution_count": null,
      "outputs": [
        {
          "output_type": "error",
          "ename": "CompilationException",
          "evalue": "ignored",
          "traceback": [
            "\u001b[1m\u001b[30m|   \u001b[1m\u001b[30mstring x = \u001b[0m\u001b[1m\u001b[30m\u001b[41m\u001b[0m\u001b[1m\u001b[30m'hello' + ' world!'\u001b[0m",
            "\u001b[1m\u001b[31munclosed character literal\u001b[0m",
            ""
          ]
        }
      ]
    },
    {
      "cell_type": "markdown",
      "metadata": {
        "id": "i-3ZQ34xmz6N",
        "colab_type": "text"
      },
      "source": [
        "<details>\n",
        "  <summary>Solution</summary>\n",
        "  \n",
        "  #### Solution Challenge #1\n",
        "  1. Missing semicolon in line 1.\n",
        "  2. 'string' is not capital.\n",
        "  3. Single quotes are using instead of double quotes.\n",
        "  #### Code Solution\n",
        "</details>"
      ]
    },
    {
      "cell_type": "code",
      "metadata": {
        "id": "IjNpgRWwnhvz",
        "colab_type": "code",
        "colab": {
          "base_uri": "https://localhost:8080/",
          "height": 34
        },
        "outputId": "ff31caa6-71e7-40ba-87a2-51f08407150e"
      },
      "source": [
        "String x = \"hello\" + \" world!\";\n",
        "x"
      ],
      "execution_count": null,
      "outputs": [
        {
          "output_type": "execute_result",
          "data": {
            "text/plain": [
              "hello world!"
            ]
          },
          "metadata": {
            "tags": []
          },
          "execution_count": 107
        }
      ]
    },
    {
      "cell_type": "markdown",
      "metadata": {
        "colab_type": "text",
        "id": "5AkvgSYQpq58"
      },
      "source": [
        "### Challenge #2"
      ]
    },
    {
      "cell_type": "markdown",
      "metadata": {
        "colab_type": "text",
        "id": "rKaAt4hipq5-"
      },
      "source": [
        "#### Task: Sum two given integers\n",
        "##### In this code block below, take two user inputted values and sum them together. Then output the value.\n",
        "\n",
        "<pre>\n",
        "  3 5\n",
        "  8\n",
        "</pre>\n",
        "\n",
        "<pre>\n",
        "  9 3\n",
        "  12\n",
        "</pre>\n",
        "\n",
        "<pre>\n",
        "  9\n",
        "  7\n",
        "  16\n",
        "</pre>"
      ]
    },
    {
      "cell_type": "code",
      "metadata": {
        "id": "hRejXRblqCeZ",
        "colab_type": "code",
        "colab": {}
      },
      "source": [
        ""
      ],
      "execution_count": null,
      "outputs": []
    },
    {
      "cell_type": "markdown",
      "metadata": {
        "colab_type": "text",
        "id": "ZuZRd_xOpq6D"
      },
      "source": [
        "<details>\n",
        "  <summary>Solution</summary>\n",
        "  \n",
        "  #### Solution Challenge #2\n",
        "  #### Code Solution\n",
        "</details>"
      ]
    },
    {
      "cell_type": "code",
      "metadata": {
        "id": "mS-CYxDsqgVv",
        "colab_type": "code",
        "colab": {
          "base_uri": "https://localhost:8080/",
          "height": 51
        },
        "outputId": "60463b0a-e3fc-4573-d63c-a9cc21489201"
      },
      "source": [
        "// Please make note the below code will only run in jupyter notebook.\n",
        "// Another example that will run anywhere is below this code cell.\n",
        "import java.util.Scanner;\n",
        "Scanner in = new Scanner(System.in);\n",
        "int a = in.nextInt();\n",
        "int b = in.nextInt();\n",
        "System.out.println(a + b);"
      ],
      "execution_count": null,
      "outputs": [
        {
          "output_type": "stream",
          "text": [
            "9 3\n",
            "12\n"
          ],
          "name": "stdout"
        }
      ]
    },
    {
      "cell_type": "code",
      "metadata": {
        "id": "C4ZgOMknq4c8",
        "colab_type": "code",
        "colab": {}
      },
      "source": [
        "import java.util.Scanner;\n",
        "\n",
        "public class SumIntegers {\n",
        "  public static void main(String[] args) {\n",
        "      Scanner in = new Scanner(System.in);\n",
        "      int a = in.nextInt();\n",
        "      int b = in.nextInt();\n",
        "      System.out.println(a + b);\n",
        "  }\n",
        "}"
      ],
      "execution_count": null,
      "outputs": []
    },
    {
      "cell_type": "markdown",
      "metadata": {
        "id": "rxZokTFXkY-C",
        "colab_type": "text"
      },
      "source": [
        "### Try it yourself!\n",
        "#### Below you can find a code cell. Experiment!"
      ]
    },
    {
      "cell_type": "code",
      "metadata": {
        "id": "16hWTV5eka3K",
        "colab_type": "code",
        "colab": {}
      },
      "source": [
        ""
      ],
      "execution_count": null,
      "outputs": []
    }
  ]
}