{
  "nbformat": 4,
  "nbformat_minor": 0,
  "metadata": {
    "colab": {
      "name": "Java-1.ipynb",
      "provenance": [],
      "collapsed_sections": [
        "Nm8YS8MLzD15",
        "NRxHguAny-1m",
        "wWKbUeVzy6o-",
        "MBndrXvYy2gO",
        "RPLnb0kmypa1",
        "Ugdd2qLZEMAw",
        "kfLQ5Fkiyk9K",
        "W86ebsp5ye9Z",
        "21guVyibxyq2"
      ]
    },
    "kernelspec": {
      "name": "python3",
      "display_name": "Python 3"
    }
  },
  "cells": [
    {
      "cell_type": "markdown",
      "metadata": {
        "id": "Nm8YS8MLzD15",
        "colab_type": "text"
      },
      "source": [
        "### Java #1"
      ]
    },
    {
      "cell_type": "code",
      "metadata": {
        "id": "8OzmScmun1Qh",
        "colab_type": "code",
        "colab": {}
      },
      "source": [
        "!wget https://github.com/SpencerPark/IJava/releases/download/v1.3.0/ijava-1.3.0.zip\n",
        "!unzip ijava-1.3.0.zip\n",
        "!python install.py --sys-prefix"
      ],
      "execution_count": null,
      "outputs": []
    },
    {
      "cell_type": "markdown",
      "metadata": {
        "id": "NRxHguAny-1m",
        "colab_type": "text"
      },
      "source": [
        "### Java in Jupyter Notebook Instructions"
      ]
    },
    {
      "cell_type": "markdown",
      "metadata": {
        "id": "bjdAMZGctgWw",
        "colab_type": "text"
      },
      "source": [
        "<h2>In this notebook introduction, we will be using the <mark>Python</mark> kernel to run Java.</h2>"
      ]
    },
    {
      "cell_type": "markdown",
      "metadata": {
        "id": "HP3aaplTrKE3",
        "colab_type": "text"
      },
      "source": [
        "<h2>Running Java in Jupyter Notebook</h2>\n",
        "<h3>1. Using the Python kernel in Jupyter Notebook</h3>\n",
        "<ol>\n",
        "  <li>Write<br>%%file <em>filename</em>.java before program.</li>\n",
        "  <li>Write<br>%shell<br>\n",
        "!javac <em>main-class-name</em>.java<br>\n",
        "!java <em>file-main-method-class-name</em> in another code block and run both to see console output.</li>\n",
        "</ol>\n",
        "\n",
        "<h3>2. Using the Java kernel in Jupyter Notebook</h3>\n",
        "<ol>\n",
        "  <li>Manually change the configuration of the file using a text editor. Example: </li>\n",
        "  <ul>\n",
        "    <li>{<br>\n",
        "  \"nbformat\": 4,<br>\n",
        "  \"nbformat_minor\": 0,<br>\n",
        "  \"metadata\": {<br>\n",
        "    \"colab\": {<br>\n",
        "      \"name\": \"Test1.ipynb\",<br>\n",
        "      \"provenance\": [],<br>\n",
        "      \"collapsed_sections\": []<br>\n",
        "    },<br>\n",
        "    \"kernelspec\": {<br>\n",
        "      <mark>\"name\": \"Python\",<br>\n",
        "      \"display_name\": \"Python\"<br></mark>\n",
        "    }<br>\n",
        "  },<br>...</li>\n",
        "    <li>Change to: <br>{<br>\n",
        "  \"nbformat\": 4,<br>\n",
        "  \"nbformat_minor\": 0,<br>\n",
        "  \"metadata\": {<br>\n",
        "    \"colab\": {<br>\n",
        "      \"name\": \"Test1.ipynb\",<br>\n",
        "      \"provenance\": [],<br>\n",
        "      \"collapsed_sections\": []<br>\n",
        "    },<br>\n",
        "    \"kernelspec\": {<br>\n",
        "      <mark>\"name\": \"Java\",<br>\n",
        "      \"display_name\": \"Java\"<br></mark>\n",
        "    }<br>\n",
        "  },<br>...</li>\n",
        "  </ul>\n",
        "  <li>Write<br>!wget https://github.com/SpencerPark/IJava/releases/download/v1.3.0/ijava-1.3.0.zip<br>\n",
        "!unzip ijava-1.3.0.zip<br>\n",
        "!python install.py --sys-prefix</li>\n",
        "  <li>Run the code before running any other cells</li>\n",
        "</ol>\n"
      ]
    },
    {
      "cell_type": "markdown",
      "metadata": {
        "id": "wWKbUeVzy6o-",
        "colab_type": "text"
      },
      "source": [
        "### Comments"
      ]
    },
    {
      "cell_type": "code",
      "metadata": {
        "id": "KvpLWSwoDr9h",
        "colab_type": "code",
        "colab": {
          "base_uri": "https://localhost:8080/",
          "height": 34
        },
        "outputId": "7df7c572-3921-47fe-81a8-bb68fc1856a3"
      },
      "source": [
        "%%file comments.java\n",
        "public class comments{\n",
        "// This is a single-line comment\n",
        "/*\n",
        "  This is a multi-line comment.\n",
        "  You can type multiple lines in it,\n",
        "  but you cannot put multi-line comments\n",
        "  inside another multi-line comment.  \n",
        "*/\n",
        "}"
      ],
      "execution_count": null,
      "outputs": [
        {
          "output_type": "stream",
          "text": [
            "Overwriting comments.java\n"
          ],
          "name": "stdout"
        }
      ]
    },
    {
      "cell_type": "markdown",
      "metadata": {
        "id": "MBndrXvYy2gO",
        "colab_type": "text"
      },
      "source": [
        "### Printing #1"
      ]
    },
    {
      "cell_type": "code",
      "metadata": {
        "id": "Xb-FHrDrAOPm",
        "colab_type": "code",
        "colab": {
          "base_uri": "https://localhost:8080/",
          "height": 34
        },
        "outputId": "524451c1-7468-4a37-d1d8-eeb02dce54fa"
      },
      "source": [
        "%%file HelloWorld.java\n",
        "\n",
        "/*\n",
        "  A classical Hello World program in Java.\n",
        "  This should output:\n",
        "    Hello World!\n",
        "  in a normal runtime, but since jupyter notebook was meant for Python, the Java kernel for\n",
        "  Jupyter does not compile classes of Java and use Python commands together.\n",
        "*/\n",
        "\n",
        "\n",
        "public class HelloWorld { // class block\n",
        "  public static void main(String[]args){ // method block\n",
        "    System.out.println(\"Hello World!\");\n",
        "  }\n",
        "}"
      ],
      "execution_count": null,
      "outputs": [
        {
          "output_type": "stream",
          "text": [
            "Overwriting HelloWorld.java\n"
          ],
          "name": "stdout"
        }
      ]
    },
    {
      "cell_type": "code",
      "metadata": {
        "id": "53l7pDifBlDZ",
        "colab_type": "code",
        "colab": {
          "base_uri": "https://localhost:8080/",
          "height": 34
        },
        "outputId": "26097379-8378-4d76-e38d-a005489f86f1"
      },
      "source": [
        "#//shell command to compile and run the java program listed above\n",
        "#// compile into a .class file\n",
        "#// run the .class file with Java intepreter\n",
        "\n",
        "%shell\n",
        "!javac HelloWorld.java \n",
        "!java HelloWorld "
      ],
      "execution_count": null,
      "outputs": [
        {
          "output_type": "stream",
          "text": [
            "Hello World!\n"
          ],
          "name": "stdout"
        }
      ]
    },
    {
      "cell_type": "markdown",
      "metadata": {
        "id": "RPLnb0kmypa1",
        "colab_type": "text"
      },
      "source": [
        "### Printing #2"
      ]
    },
    {
      "cell_type": "code",
      "metadata": {
        "id": "jMw4A3EAvDgj",
        "colab_type": "code",
        "colab": {
          "base_uri": "https://localhost:8080/"
        },
        "outputId": "3105165a-73c6-467a-936a-8b099b5b929c"
      },
      "source": [
        "%%file print2.java\n",
        "//You can also use the '+' operator to concatenate two strings, numbers, etc. together in a print statement.\n",
        "\n",
        "public class print2{\n",
        "  public static void main(String[]args){\n",
        "    System.out.println(\"Hello\" + \" World!\");\n",
        "    System.out.println(2 + 3);\n",
        "    System.out.println(\"Hello\" + \" World! x\" + 2);\n",
        "  }\n",
        "}"
      ],
      "execution_count": null,
      "outputs": [
        {
          "output_type": "stream",
          "text": [
            "Overwriting print2.java\n"
          ],
          "name": "stdout"
        }
      ]
    },
    {
      "cell_type": "code",
      "metadata": {
        "id": "kY_8DR9PvZ-T",
        "colab_type": "code",
        "colab": {
          "base_uri": "https://localhost:8080/"
        },
        "outputId": "9c759991-a915-402b-b89d-c5b55a7b53bb"
      },
      "source": [
        "%shell\n",
        "!javac print2.java\n",
        "!java print2"
      ],
      "execution_count": null,
      "outputs": [
        {
          "output_type": "stream",
          "text": [
            "Hello World!\n",
            "5\n",
            "Hello World! x2\n"
          ],
          "name": "stdout"
        }
      ]
    },
    {
      "cell_type": "markdown",
      "metadata": {
        "id": "Ugdd2qLZEMAw",
        "colab_type": "text"
      },
      "source": [
        "### Evaluating a expression.\n",
        "Example: <br>(10.5 + 2 * 3) / (45 - 3.5)"
      ]
    },
    {
      "cell_type": "code",
      "metadata": {
        "id": "CefNBV6DEBPM",
        "colab_type": "code",
        "colab": {
          "base_uri": "https://localhost:8080/",
          "height": 34
        },
        "outputId": "5ff5386c-a967-4601-bdea-565cf56c52d9"
      },
      "source": [
        "%%file print.java\n",
        "\n",
        "public class print{\n",
        "  public static void main(String[]args){\n",
        "    System.out.println((10.5 + 2 * 3) / (45 - 3.5));\n",
        "  }\n",
        "}"
      ],
      "execution_count": null,
      "outputs": [
        {
          "output_type": "stream",
          "text": [
            "Overwriting print.java\n"
          ],
          "name": "stdout"
        }
      ]
    },
    {
      "cell_type": "code",
      "metadata": {
        "id": "UMTQ9JM8qYz2",
        "colab_type": "code",
        "colab": {
          "base_uri": "https://localhost:8080/",
          "height": 34
        },
        "outputId": "a44694eb-ada6-48c5-a39e-c666732a0153"
      },
      "source": [
        "%shell\n",
        "!javac print.java\n",
        "!java print"
      ],
      "execution_count": null,
      "outputs": [
        {
          "output_type": "stream",
          "text": [
            "0.39759036144578314\n"
          ],
          "name": "stdout"
        }
      ]
    },
    {
      "cell_type": "markdown",
      "metadata": {
        "id": "kfLQ5Fkiyk9K",
        "colab_type": "text"
      },
      "source": [
        "### Challenge #1"
      ]
    },
    {
      "cell_type": "markdown",
      "metadata": {
        "id": "l9rg8pMPE2X6",
        "colab_type": "text"
      },
      "source": [
        "What is wrong with the following line of code?<br>\n",
        "<em>You can try run the following line of code</em>"
      ]
    },
    {
      "cell_type": "code",
      "metadata": {
        "id": "HvB1-39-E0NQ",
        "colab_type": "code",
        "colab": {
          "base_uri": "https://localhost:8080/",
          "height": 34
        },
        "outputId": "1ffbf597-d446-4513-8855-4d8b1d030f6a"
      },
      "source": [
        "%%file challenge1.java\n",
        "\n",
        "public class challenge1{\n",
        "  public static void main(String[]args){\n",
        "    System.outpritl(\"Hello world!)\n",
        "  }\n",
        "}"
      ],
      "execution_count": null,
      "outputs": [
        {
          "output_type": "stream",
          "text": [
            "Overwriting challenge1.java\n"
          ],
          "name": "stdout"
        }
      ]
    },
    {
      "cell_type": "code",
      "metadata": {
        "id": "S72ltpTCqSNj",
        "colab_type": "code",
        "colab": {
          "base_uri": "https://localhost:8080/",
          "height": 119
        },
        "outputId": "07189af4-fd0f-48a9-9c25-c47a16f50e9d"
      },
      "source": [
        "%shell\n",
        "!javac challenge1.java\n",
        "!java challenge1"
      ],
      "execution_count": null,
      "outputs": [
        {
          "output_type": "stream",
          "text": [
            "challenge1.java:4: error: unclosed string literal\n",
            "    System.outpritl(\"Hello world!)\n",
            "                    ^\n",
            "1 error\n",
            "Error: Could not find or load main class challenge1\n",
            "Caused by: java.lang.ClassNotFoundException: challenge1\n"
          ],
          "name": "stdout"
        }
      ]
    },
    {
      "cell_type": "markdown",
      "metadata": {
        "id": "ng_Jjqhuvusp",
        "colab_type": "text"
      },
      "source": [
        "<details>\n",
        "  <summary>Solution</summary>\n",
        "  \n",
        "  ### Solution Challenge #1\n",
        "  1. All statements require a semicolon\n",
        "  2. All strings have to have a pair of double quotes\n",
        "  3. Methods of other classes need to be spelt correctly\n",
        "\n",
        "  #### Correct Code\n",
        "\n",
        "```\n",
        "    public class challenge1 {\n",
        "      public static void main(String[]args) {\n",
        "        System.out.println(\"Hello world!\");\n",
        "      }\n",
        "    }\n",
        "```\n",
        "\n",
        "</details>"
      ]
    },
    {
      "cell_type": "markdown",
      "metadata": {
        "id": "W86ebsp5ye9Z",
        "colab_type": "text"
      },
      "source": [
        "### Challenge #2"
      ]
    },
    {
      "cell_type": "markdown",
      "metadata": {
        "colab_type": "text",
        "id": "QU4akPYWujk3"
      },
      "source": [
        "What is wrong with the following line of code?<br>\n",
        "<em>You can try run the following line of code</em>"
      ]
    },
    {
      "cell_type": "code",
      "metadata": {
        "id": "GbojbeE3uZi6",
        "colab_type": "code",
        "colab": {
          "base_uri": "https://localhost:8080/",
          "height": 34
        },
        "outputId": "ee1ff3cd-9d69-43e9-f416-3c813e625770"
      },
      "source": [
        "%%file challenge2.java\n",
        "\n",
        "public class challenge2{\n",
        "  public static void main(String[]args){\n",
        "    System.out.println(\"Hello world\",3,9);\n",
        "  }\n",
        "}"
      ],
      "execution_count": null,
      "outputs": [
        {
          "output_type": "stream",
          "text": [
            "Overwriting challenge2.java\n"
          ],
          "name": "stdout"
        }
      ]
    },
    {
      "cell_type": "code",
      "metadata": {
        "colab_type": "code",
        "id": "1VnMHxUhux9G",
        "colab": {
          "base_uri": "https://localhost:8080/",
          "height": 459
        },
        "outputId": "5cfe6506-c049-434e-d055-7a25f351ff30"
      },
      "source": [
        "%shell\n",
        "!javac challenge2.java\n",
        "!java challenge2"
      ],
      "execution_count": null,
      "outputs": [
        {
          "output_type": "stream",
          "text": [
            "challenge2.java:4: error: no suitable method found for println(String,int,int)\n",
            "    System.out.println(\"Hello world\",3,9);\n",
            "              ^\n",
            "    method PrintStream.println() is not applicable\n",
            "      (actual and formal argument lists differ in length)\n",
            "    method PrintStream.println(boolean) is not applicable\n",
            "      (actual and formal argument lists differ in length)\n",
            "    method PrintStream.println(char) is not applicable\n",
            "      (actual and formal argument lists differ in length)\n",
            "    method PrintStream.println(int) is not applicable\n",
            "      (actual and formal argument lists differ in length)\n",
            "    method PrintStream.println(long) is not applicable\n",
            "      (actual and formal argument lists differ in length)\n",
            "    method PrintStream.println(float) is not applicable\n",
            "      (actual and formal argument lists differ in length)\n",
            "    method PrintStream.println(double) is not applicable\n",
            "      (actual and formal argument lists differ in length)\n",
            "    method PrintStream.println(char[]) is not applicable\n",
            "      (actual and formal argument lists differ in length)\n",
            "    method PrintStream.println(String) is not applicable\n",
            "      (actual and formal argument lists differ in length)\n",
            "    method PrintStream.println(Object) is not applicable\n",
            "      (actual and formal argument lists differ in length)\n",
            "1 error\n",
            "Error: Could not find or load main class challenge2\n",
            "Caused by: java.lang.ClassNotFoundException: challenge2\n"
          ],
          "name": "stdout"
        }
      ]
    },
    {
      "cell_type": "markdown",
      "metadata": {
        "id": "ASDnCoa0xROX",
        "colab_type": "text"
      },
      "source": [
        "<details>\n",
        "  <summary>Solution</summary>\n",
        "  \n",
        "  ### Solution Challenge #2\n",
        "  1. Values inside of print statements are concatenated together with the '+' operator\n",
        "\n",
        "  #### Correct Code\n",
        "\n",
        "\n",
        "```\n",
        "    public class challenge2 {\n",
        "      public static void main(String[]args) {\n",
        "        System.out.println(\"Hello world\" + 3 + 9);\n",
        "      }\n",
        "    }\n",
        "```\n",
        "\n",
        "\n",
        "</details>"
      ]
    },
    {
      "cell_type": "markdown",
      "metadata": {
        "id": "21guVyibxyq2",
        "colab_type": "text"
      },
      "source": [
        "### Try it yourself!\n",
        "#### Below you can find a code cell. Experiment!"
      ]
    },
    {
      "cell_type": "code",
      "metadata": {
        "id": "WKe192Slx6MR",
        "colab_type": "code",
        "colab": {
          "base_uri": "https://localhost:8080/",
          "height": 34
        },
        "outputId": "7d9a91da-7d70-4fc6-f020-600305eded6d"
      },
      "source": [
        "%%file FILENAME.java\n",
        "public class FILECLASSNAME {\n",
        "    public static void main(String[]args){\n",
        "        \n",
        "    }\n",
        "}"
      ],
      "execution_count": null,
      "outputs": [
        {
          "output_type": "stream",
          "text": [
            "Writing FILENAME.java\n"
          ],
          "name": "stdout"
        }
      ]
    },
    {
      "cell_type": "code",
      "metadata": {
        "id": "-hWMatriyD45",
        "colab_type": "code",
        "colab": {
          "base_uri": "https://localhost:8080/",
          "height": 119
        },
        "outputId": "11d5fba9-b7d4-47d7-9355-18e51df41242"
      },
      "source": [
        "%shell\n",
        "!javac FILENAME.java\n",
        "!java FILECLASSNAME"
      ],
      "execution_count": null,
      "outputs": [
        {
          "output_type": "stream",
          "text": [
            "FILENAME.java:1: error: class FILECLASSNAME is public, should be declared in a file named FILECLASSNAME.java\n",
            "public class FILECLASSNAME {\n",
            "       ^\n",
            "1 error\n",
            "Error: Could not find or load main class FILECLASSNAME\n",
            "Caused by: java.lang.ClassNotFoundException: FILECLASSNAME\n"
          ],
          "name": "stdout"
        }
      ]
    }
  ]
}